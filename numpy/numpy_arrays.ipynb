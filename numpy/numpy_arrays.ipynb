{
 "cells": [
  {
   "cell_type": "markdown",
   "metadata": {},
   "source": [
    "### Array Indexing\n",
    "1. In a 1D array, the i<sup>th</sup> value can be accessed by specifying the desired index in square brackets.\n",
    "2. In a multi-dimensional array, items can be accessed by using **comma-separated indices**.\n",
    "\n",
    "To index from the end of the array, we can use negative indices."
   ]
  },
  {
   "cell_type": "code",
   "execution_count": 1,
   "metadata": {},
   "outputs": [],
   "source": [
    "import numpy as np"
   ]
  },
  {
   "cell_type": "code",
   "execution_count": 7,
   "metadata": {},
   "outputs": [
    {
     "name": "stdout",
     "output_type": "stream",
     "text": [
      "x1[0] =  5\n",
      "x1[-1] =  1\n",
      "x2[0][0] =  3\n",
      "x2[0, 0] =  3\n",
      "x2[0, -1] =  4\n"
     ]
    }
   ],
   "source": [
    "x1 = np.array([5, 0, 1]) # 1D Array\n",
    "print(\"x1[0] = \", x1[0])\n",
    "print(\"x1[-1] = \", x1[-1])\n",
    "\n",
    "x2 = np.array(\n",
    "    [[3, 5, 2, 4],\n",
    "    [7, 6, 8, 8],\n",
    "    [1, 6, 7, 7]]\n",
    ") # 2D array of shape (3, 4)\n",
    "\n",
    "print(\"x2[0][0] = \", x2[0][0]) # Using conventional multi-dimensional indexing\n",
    "print(\"x2[0, 0] = \", x2[0, 0]) # Using Python-special multi-dimensional indexing\n",
    "print(\"x2[0, -1] = \", x2[0, -1])"
   ]
  },
  {
   "cell_type": "markdown",
   "metadata": {},
   "source": [
    "### Modifying Values\n",
    "Values can also be modified using any of the above index notations.<br>\n",
    "Keep in mind that, unlike Python lists, NumPy arrays have a fixed type. So whenever you try to insert mismatching types of values, either the value will be silently converted to match the type of the existing array, or the insert operation will throw an error.<br>\n",
    "For example, if we try to insert a floating point value into an integer array, the value being inserted will be silently truncated to an integer."
   ]
  },
  {
   "cell_type": "code",
   "execution_count": 14,
   "metadata": {},
   "outputs": [
    {
     "name": "stdout",
     "output_type": "stream",
     "text": [
      "[3 0 1]\n",
      "invalid literal for int() with base 10: 'Hello'\n",
      "[[12  5  2  4]\n",
      " [ 7  6  8  8]\n",
      " [ 1  6  7  7]]\n"
     ]
    }
   ],
   "source": [
    "x1[0] = np.pi\n",
    "print(x1) # x1[0] got truncated to 3.\n",
    "try:\n",
    "    x1[0] = \"Hello\" # Throws a ValueError\n",
    "except Exception as e:\n",
    "    print(e)\n",
    "x2[0, 0] = 12\n",
    "print(x2)"
   ]
  },
  {
   "cell_type": "markdown",
   "metadata": {},
   "source": [
    "### Array Slicing: Accessing Sub-arrays.\n",
    "Just as we can use square brackets to access individual array elements, we can also use them to access subarrays with the slice notation, marked by the colon (:) character. \n",
    "The NumPy slicing syntax follows that of the standard Python list; to access a slice of an array x, use this:\n",
    "\n",
    "`x[start:stop:step]`\n",
    "\n",
    "If any of these are unspecified, they default to the values `start=0`, `stop=size of dimension`, `step=1`. \n",
    "\n",
    "When the `step` value is negative, **the defaults for start and stop are swapped**.\n",
    "\n",
    "**An important point to note** is that the array slices return _views_ rather than _copies_ of the array data. \n",
    "- In lists, slicing will return copies.\n",
    "- In NumPy arrays, slices will return views.\n",
    "**Modifying a slice of an array modifies the array in-place**."
   ]
  },
  {
   "cell_type": "code",
   "execution_count": 21,
   "metadata": {},
   "outputs": [
    {
     "name": "stdout",
     "output_type": "stream",
     "text": [
      "[0 1 2 3 4]\n",
      "[4 5 6]\n",
      "[5 6 7 8 9]\n",
      "[0 2 4 6 8]\n",
      "[1 3 5 7 9]\n",
      "[9 8 7 6 5 4 3 2 1 0]\n",
      "[5 3 1]\n"
     ]
    }
   ],
   "source": [
    "x = np.arange(10)\n",
    "print(x[:5]) # First 5 elements\n",
    "print(x[4:7]) # Elements with index 4, 5, 6 (7 exclusive)\n",
    "print(x[5:]) # Elements starting with index 5 inclusive\n",
    "print(x[::2]) # Every other element\n",
    "print(x[1::2])  # every other element, starting at index 1\n",
    "print(x[::-1]) # Reversed array with step count -1\n",
    "print(x[5::-2]) # Every other element from index 5 inclusive, reversed"
   ]
  },
  {
   "cell_type": "code",
   "execution_count": 24,
   "metadata": {},
   "outputs": [
    {
     "name": "stdout",
     "output_type": "stream",
     "text": [
      "[[12  5  2]\n",
      " [ 7  6  8]]\n",
      "[5 6 6]\n",
      "[12  5  2  4]\n",
      "[[ 7  7  6  1]\n",
      " [ 8  8  6  7]\n",
      " [ 4  2  5 12]]\n"
     ]
    }
   ],
   "source": [
    "x2 = np.array([\n",
    "    [12,  5,  2,  4],\n",
    "    [ 7,  6,  8,  8],\n",
    "    [ 1,  6,  7,  7]\n",
    "])\n",
    "\n",
    "print(x2[:2, :3]) # First two rows, first three columns\n",
    "print(x2[:, 1]) # All rows, 2nd column\n",
    "print(x2[0, :]) # First row\n",
    "print(x2[::-1, ::-1]) # Entire matrix, reversed"
   ]
  },
  {
   "cell_type": "code",
   "execution_count": 26,
   "metadata": {},
   "outputs": [
    {
     "name": "stdout",
     "output_type": "stream",
     "text": [
      "x2Sub:\n",
      " [[10  5]\n",
      " [ 7  6]]\n",
      "x2:\n",
      " [[10  5  2  4]\n",
      " [ 7  6  8  8]\n",
      " [ 1  6  7  7]]\n",
      "x2 copy:\n",
      " [[5 5]\n",
      " [7 6]]\n",
      "x2:\n",
      " [[10  5  2  4]\n",
      " [ 7  6  8  8]\n",
      " [ 1  6  7  7]]\n"
     ]
    }
   ],
   "source": [
    "# No copy views\n",
    "x2Sub = x2[:2, :2] # Extract the first two rows and columns of x2 into x2Sub.\n",
    "# Note that x2Sub is just a view of x2. Modifying x2Sub will modify x2\n",
    "x2Sub[0, 0] = 10\n",
    "\n",
    "print(\"x2Sub:\\n\", x2Sub)\n",
    "print(\"x2:\\n\", x2)\n",
    "\n",
    "# We can make a proper copy of an array using the \"copy()\" method built into np arrays.\n",
    "x2Copy = x2[:2, :2].copy()\n",
    "x2Copy[0, 0] = 5\n",
    "print(\"x2 copy:\\n\", x2Copy)\n",
    "print(\"x2:\\n\", x2)"
   ]
  },
  {
   "cell_type": "markdown",
   "metadata": {},
   "source": [
    "### Array Reshaping\n",
    "\n",
    "Another useful type of operation is reshaping of arrays. The most flexible way of doing this is with the `reshape` method. <br>\n",
    "For this to work, **the size of the initial array must match the size of the reshaped array**. <br>\n",
    "Where possible, the reshape method will use a no-copy view of the initial array, but with non-contiguous memory buffers this is not always the case."
   ]
  },
  {
   "cell_type": "code",
   "execution_count": 28,
   "metadata": {},
   "outputs": [
    {
     "name": "stdout",
     "output_type": "stream",
     "text": [
      "[1 2 3]\n"
     ]
    },
    {
     "data": {
      "text/plain": [
       "array([[1],\n",
       "       [2],\n",
       "       [3]])"
      ]
     },
     "execution_count": 28,
     "metadata": {},
     "output_type": "execute_result"
    }
   ],
   "source": [
    "x = np.array([1, 2, 3])\n",
    "\n",
    "# row vector via reshape\n",
    "x.reshape((1, 3))\n",
    "print(x)\n",
    "# column vector via reshape\n",
    "x.reshape((3, 1))"
   ]
  }
 ],
 "metadata": {
  "kernelspec": {
   "display_name": "Python 3 (ipykernel)",
   "language": "python",
   "name": "python3"
  }
 },
 "nbformat": 4,
 "nbformat_minor": 2
}
