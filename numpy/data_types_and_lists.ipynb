{
 "cells": [
  {
   "cell_type": "markdown",
   "metadata": {},
   "source": [
    "## Dynamically Typed Language\n",
    "\n",
    "Python _dynamically infers_ the type of any variable being declared."
   ]
  },
  {
   "cell_type": "code",
   "execution_count": 1,
   "metadata": {},
   "outputs": [
    {
     "name": "stdout",
     "output_type": "stream",
     "text": [
      "4\n",
      "four\n"
     ]
    }
   ],
   "source": [
    "x = 4\n",
    "print(x)\n",
    "x = \"four\"\n",
    "print(x)\n",
    "# This code works, since Python is dynamically typed."
   ]
  },
  {
   "cell_type": "markdown",
   "metadata": {},
   "source": [
    "**Python is implemented in C.**<br>\n",
    "Therefore, _every Python object is a cleverly-disguised C Structure._\n",
    "\n",
    "The structure contains the value and supplementary information about the Python object.<br>\n",
    "This means that there is some overhead in storing an integer in Python as compared to an integer in a compiled language like C.\n",
    "\n",
    "A C integer is essentially a _label for a position in memory whose bytes encode an integer value._<br>\n",
    "A Python integer is a _pointer to a position in memory containing all the Python object information, including the bytes that contain the integer value._<br>\n",
    "This extra information in the Python integer structure is what allows Python to be coded so freely and dynamically.\n"
   ]
  },
  {
   "cell_type": "markdown",
   "metadata": {},
   "source": [
    "## Python Collections\n",
    "By default, a collection in Python is an instance of a **List**.\n",
    "Because of Python's dynamic typing, we can create homogenous and heterogenous lists without any issues."
   ]
  },
  {
   "cell_type": "code",
   "execution_count": 2,
   "metadata": {},
   "outputs": [
    {
     "name": "stdout",
     "output_type": "stream",
     "text": [
      "Default collection type in Python is  <class 'list'>\n",
      "List of numbers from a given range [0, 1, 2, 3, 4, 5, 6, 7, 8, 9]\n",
      "List of strings ['0', '1', '2', '3', '4', '5', '6', '7', '8', '9']\n",
      "An example of a heterogenous list [True, False, '2', 1]\n"
     ]
    }
   ],
   "source": [
    "a = [1, 2, 3, 4]\n",
    "print(\"Default collection type in Python is \", str(type(a)))\n",
    "l = list(range(10))\n",
    "print(\"List of numbers from a given range\", l)\n",
    "s = [str(c) for c in l]\n",
    "print(\"List of strings\", s)\n",
    "h = [True, False, \"2\", 1]\n",
    "print(\"An example of a heterogenous list\", h)"
   ]
  },
  {
   "cell_type": "markdown",
   "metadata": {},
   "source": [
    "This flexibility comes at a cost:<br>\n",
    "To allow these flexible types, each item in a list contains its own type info, reference count, and other information.<br>\n",
    "=> **Each item is a complete Python object.**\n",
    "\n",
    "In the special case that all variables are of the same type, much of this important is redundant.<br>\n",
    "=> **It can be much more efficient to store data in a fixed-type array.**\n",
    "\n",
    "At the implementation level, the array essentially contains a single pointer to a contiguous block of data.<br>\n",
    "The Python List contains a pointer to a block of pointers, which in-turn point to full Python objects. <br>\n",
    "**Therefore, the list is flexible and sparse.** (Increased flexibility but lower performance)."
   ]
  },
  {
   "cell_type": "markdown",
   "metadata": {},
   "source": [
    "The built-in `array` module (available since Python 3.3) can be used to create dense arrays of a uniform type:"
   ]
  },
  {
   "cell_type": "code",
   "execution_count": 3,
   "metadata": {},
   "outputs": [
    {
     "name": "stdout",
     "output_type": "stream",
     "text": [
      "array('i', [0, 1, 2, 3, 4, 5, 6, 7, 8, 9])\n"
     ]
    }
   ],
   "source": [
    "import array\n",
    "arr = array.array(\"i\", l) # The 'i' specifies the type of the elements in the array.\n",
    "print(arr)"
   ]
  },
  {
   "cell_type": "markdown",
   "metadata": {},
   "source": [
    "## NumPy Arrays\n",
    "Much more useful, however, is the `ndarray` object of the NumPy package.<br>\n",
    "While Python's array object provides efficient storage of array-based data, NumPy adds to this **efficient operations on that data.**<br>\n",
    "Unlike Python lists, NumPy is constrained to arrays that all contain the same type. If types do not match, **NumPy will upcast if possible**"
   ]
  },
  {
   "cell_type": "code",
   "execution_count": 4,
   "metadata": {},
   "outputs": [
    {
     "name": "stdout",
     "output_type": "stream",
     "text": [
      "int32\n",
      "float64\n",
      "float32\n"
     ]
    }
   ],
   "source": [
    "import numpy as np\n",
    "npArr1 = np.array([1, 4, 2, 3, 5])\n",
    "print(npArr1.dtype) #int32\n",
    "\n",
    "npArr2 = np.array([np.pi, 3, 4])\n",
    "print(npArr2.dtype) #float64 because of pi being in the array\n",
    "\n",
    "npArr3 = np.array([1, 2, 3, 4], dtype=\"float32\")\n",
    "print(npArr3.dtype) #float32 since we specified it while creating the array"
   ]
  },
  {
   "cell_type": "markdown",
   "metadata": {},
   "source": [
    "## Creating Arrays from scratch\n",
    "\n",
    "We can create arrays from scratch using routines built into NumPy."
   ]
  },
  {
   "cell_type": "code",
   "execution_count": 9,
   "metadata": {},
   "outputs": [
    {
     "name": "stdout",
     "output_type": "stream",
     "text": [
      "Length 10 array of zeros [0 0 0 0 0 0 0 0 0 0]\n",
      "3x5 matrix of ones:\n",
      " [[1. 1. 1. 1. 1.]\n",
      " [1. 1. 1. 1. 1.]\n",
      " [1. 1. 1. 1. 1.]] \n",
      " dtype: float64\n",
      "3x5 matrix of pi\n",
      " [[3.14159265 3.14159265 3.14159265 3.14159265 3.14159265]\n",
      " [3.14159265 3.14159265 3.14159265 3.14159265 3.14159265]\n",
      " [3.14159265 3.14159265 3.14159265 3.14159265 3.14159265]] \n",
      " dtype: float64\n",
      "Array of linear sequence starting at 0, ending at 20 exclusive:\n",
      " [ 0  2  4  6  8 10 12 14 16 18] \n",
      "dtype: int32 . itemsize:  4 bytes. nBytes: 40\n",
      "Evenly-spaced sequence of 5 values between 0 & 1:\n",
      " [0.   0.25 0.5  0.75 1.  ]\n",
      "3x3 Identity Matrix:\n",
      " [[1. 0. 0.]\n",
      " [0. 1. 0.]\n",
      " [0. 0. 1.]]\n",
      "[[-0.79193222 -0.20074164  1.32986613]\n",
      " [ 1.0579304  -0.83371229  0.2821077 ]\n",
      " [ 0.44989668 -0.11144876  0.51313419]]\n",
      "No of dimensions: 2\n",
      "Item size: 8 bytes. size:  9 nBytes:  72\n"
     ]
    }
   ],
   "source": [
    "# Create a length-10 integer array filled with zeroes.\n",
    "zeros = np.zeros(10, dtype=\"int\")\n",
    "print(\"Length 10 array of zeros\", zeros)\n",
    "\n",
    "# Create a 3x5 floating-point array filled with ones.\n",
    "ones3x5 = np.ones((3, 5), dtype=\"float\")\n",
    "print(\"3x5 matrix of ones:\\n\", ones3x5, \"\\n\", \"dtype:\", ones3x5.dtype)\n",
    "\n",
    "# Create a 3x5 array filled with pi\n",
    "pi3x5 = np.full((3, 5), np.pi)\n",
    "print(\"3x5 matrix of pi\\n\", pi3x5, \"\\n\", \"dtype:\", pi3x5.dtype)\n",
    "\n",
    "# Create an array filled with a linear sequence starting at 0, ending at 20 exclusive, with a step of 2\n",
    "step2Sequence = np.arange(0, 20, 2, dtype=\"int\")\n",
    "print(\"Array of linear sequence starting at 0, ending at 20 exclusive:\\n\", step2Sequence, \"\\ndtype:\", step2Sequence.dtype, \". itemsize: \", step2Sequence.itemsize, \"bytes. nBytes:\", step2Sequence.nbytes)\n",
    "\n",
    "# Create an evenly-spaced sequence between 0 and 1 consisting of 5 values\n",
    "linSpace = np.linspace(0, 1, 5)\n",
    "print(\"Evenly-spaced sequence of 5 values between 0 & 1:\\n\", linSpace)\n",
    "\n",
    "# Create a 3x3 identity matrix\n",
    "id3x3 = np.eye(3)\n",
    "print(\"3x3 Identity Matrix:\\n\", id3x3)\n",
    "\n",
    "# Create a normal distribution with mean 0 and Standard Deviation at 1\n",
    "# 3x3 matrix\n",
    "normal3x3 = np.random.normal(0, 1, (3, 3))\n",
    "print(normal3x3)\n",
    "print(\"No of dimensions:\", normal3x3.ndim)\n",
    "print(\"Item size:\", normal3x3.itemsize, \"bytes. size: \", normal3x3.size, \"nBytes: \", normal3x3.nbytes)\n"
   ]
  }
 ],
 "metadata": {
  "kernelspec": {
   "display_name": "Python 3 (ipykernel)",
   "language": "python",
   "name": "python3"
  },
  "language_info": {
   "codemirror_mode": {
    "name": "ipython",
    "version": 3
   },
   "file_extension": ".py",
   "mimetype": "text/x-python",
   "name": "python",
   "nbconvert_exporter": "python",
   "pygments_lexer": "ipython3",
   "version": "3.11.5"
  }
 },
 "nbformat": 4,
 "nbformat_minor": 2
}
